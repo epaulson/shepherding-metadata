{
 "cells": [
  {
   "cell_type": "code",
   "execution_count": 2,
   "metadata": {},
   "outputs": [],
   "source": [
    "import pandas as pd\n",
    "import seaborn as sns\n",
    "# sns.set()\n",
    "sns.set_style(\"whitegrid\")\n",
    "import matplotlib.pyplot as plt\n",
    "%matplotlib inline"
   ]
  },
  {
   "cell_type": "code",
   "execution_count": 3,
   "metadata": {},
   "outputs": [],
   "source": [
    "# df = pd.read_csv('record_stats.csv', header=None)\n",
    "# df.columns = ['cfg', 'elapsed', '# records', 'bytes']\n",
    "# df['driver'] = df['cfg'].str.extract(r'/([a-z]+)_')"
   ]
  },
  {
   "cell_type": "code",
   "execution_count": 4,
   "metadata": {},
   "outputs": [],
   "source": [
    "# d = df.groupby('cfg')['driver', '# records', 'bytes'].max()\n",
    "# # ax1 = d.plot.scatter(x='# records', y='bytes', marker='o', hue='driver')\n",
    "# sns.lmplot( x=\"# records\", y=\"bytes\", data=d, fit_reg=False, hue='driver', legend=False)"
   ]
  },
  {
   "cell_type": "markdown",
   "metadata": {},
   "source": [
    "## BuildingSync"
   ]
  },
  {
   "cell_type": "code",
   "execution_count": 5,
   "metadata": {},
   "outputs": [],
   "source": [
    "df = pd.read_csv('bsync_stats.csv', header=None)\n",
    "df.columns = ['md_src', 'site', 'elapsed', '# records', '# triples']\n",
    "df = df.groupby('site')[['md_src', '# records', '# triples']].max().reset_index()\n",
    "df['triples_per_record'] = df['# triples'] / df['# records']\n",
    "df\n",
    "bsync_df = df"
   ]
  },
  {
   "cell_type": "code",
   "execution_count": 6,
   "metadata": {},
   "outputs": [
    {
     "data": {
      "text/plain": [
       "count    17.000000\n",
       "mean      2.281335\n",
       "std       0.305526\n",
       "min       2.000000\n",
       "25%       2.000000\n",
       "50%       2.363636\n",
       "75%       2.444444\n",
       "max       3.000000\n",
       "dtype: float64"
      ]
     },
     "execution_count": 6,
     "metadata": {},
     "output_type": "execute_result"
    }
   ],
   "source": [
    "(df['# triples'] / df['# records']).describe()"
   ]
  },
  {
   "cell_type": "code",
   "execution_count": 7,
   "metadata": {},
   "outputs": [],
   "source": [
    "# fig_dims = (10,4)\n",
    "# fig, ax = plt.subplots(figsize=fig_dims)\n",
    "# # with sns.plotting_context(\"notebook\", font_scale=2):\n",
    "# # sns.scatterplot(x='# records', y='# triples', data=df, ax=ax, size=)\n",
    "# ax.set_xlabel('# records', fontsize=16)\n",
    "# ax.set_ylabel('# triples', fontsize=16)"
   ]
  },
  {
   "cell_type": "markdown",
   "metadata": {},
   "source": [
    "## Haystack"
   ]
  },
  {
   "cell_type": "code",
   "execution_count": 8,
   "metadata": {},
   "outputs": [],
   "source": [
    "fix_records = {\n",
    "    'ghausi-improved': 2183,\n",
    "    'vrtdump': 149,\n",
    "    'alpha': 2032,\n",
    "    'bravo': 1077,\n",
    "    'charlie': 624,\n",
    "    'carytown': 22,\n",
    "    'gaithersburg': 147,\n",
    "    'pes': 6474,\n",
    "}"
   ]
  },
  {
   "cell_type": "code",
   "execution_count": 9,
   "metadata": {},
   "outputs": [
    {
     "data": {
      "text/html": [
       "<div>\n",
       "<style scoped>\n",
       "    .dataframe tbody tr th:only-of-type {\n",
       "        vertical-align: middle;\n",
       "    }\n",
       "\n",
       "    .dataframe tbody tr th {\n",
       "        vertical-align: top;\n",
       "    }\n",
       "\n",
       "    .dataframe thead th {\n",
       "        text-align: right;\n",
       "    }\n",
       "</style>\n",
       "<table border=\"1\" class=\"dataframe\">\n",
       "  <thead>\n",
       "    <tr style=\"text-align: right;\">\n",
       "      <th></th>\n",
       "      <th>site</th>\n",
       "      <th>md_src</th>\n",
       "      <th># records</th>\n",
       "      <th># triples</th>\n",
       "      <th>triples_per_record</th>\n",
       "    </tr>\n",
       "  </thead>\n",
       "  <tbody>\n",
       "    <tr>\n",
       "      <th>0</th>\n",
       "      <td>alpha</td>\n",
       "      <td>haystack</td>\n",
       "      <td>2032</td>\n",
       "      <td>7966</td>\n",
       "      <td>3.920276</td>\n",
       "    </tr>\n",
       "    <tr>\n",
       "      <th>1</th>\n",
       "      <td>bravo</td>\n",
       "      <td>haystack</td>\n",
       "      <td>1077</td>\n",
       "      <td>4557</td>\n",
       "      <td>4.231198</td>\n",
       "    </tr>\n",
       "    <tr>\n",
       "      <th>2</th>\n",
       "      <td>carytown</td>\n",
       "      <td>haystack</td>\n",
       "      <td>22</td>\n",
       "      <td>67</td>\n",
       "      <td>3.045455</td>\n",
       "    </tr>\n",
       "    <tr>\n",
       "      <th>3</th>\n",
       "      <td>charlie</td>\n",
       "      <td>haystack</td>\n",
       "      <td>624</td>\n",
       "      <td>2238</td>\n",
       "      <td>3.586538</td>\n",
       "    </tr>\n",
       "    <tr>\n",
       "      <th>4</th>\n",
       "      <td>gaithersburg</td>\n",
       "      <td>haystack</td>\n",
       "      <td>147</td>\n",
       "      <td>448</td>\n",
       "      <td>3.047619</td>\n",
       "    </tr>\n",
       "    <tr>\n",
       "      <th>5</th>\n",
       "      <td>ghausi-improved</td>\n",
       "      <td>haystack</td>\n",
       "      <td>2183</td>\n",
       "      <td>5513</td>\n",
       "      <td>2.525424</td>\n",
       "    </tr>\n",
       "    <tr>\n",
       "      <th>6</th>\n",
       "      <td>pes</td>\n",
       "      <td>haystack</td>\n",
       "      <td>6474</td>\n",
       "      <td>19426</td>\n",
       "      <td>3.000618</td>\n",
       "    </tr>\n",
       "    <tr>\n",
       "      <th>7</th>\n",
       "      <td>vrtdump</td>\n",
       "      <td>haystack</td>\n",
       "      <td>149</td>\n",
       "      <td>322</td>\n",
       "      <td>2.161074</td>\n",
       "    </tr>\n",
       "  </tbody>\n",
       "</table>\n",
       "</div>"
      ],
      "text/plain": [
       "              site    md_src  # records  # triples  triples_per_record\n",
       "0            alpha  haystack       2032       7966            3.920276\n",
       "1            bravo  haystack       1077       4557            4.231198\n",
       "2         carytown  haystack         22         67            3.045455\n",
       "3          charlie  haystack        624       2238            3.586538\n",
       "4     gaithersburg  haystack        147        448            3.047619\n",
       "5  ghausi-improved  haystack       2183       5513            2.525424\n",
       "6              pes  haystack       6474      19426            3.000618\n",
       "7          vrtdump  haystack        149        322            2.161074"
      ]
     },
     "execution_count": 9,
     "metadata": {},
     "output_type": "execute_result"
    }
   ],
   "source": [
    "df = pd.read_csv('haystack_stats.csv', header=None)\n",
    "df.columns = ['md_src', 'site', 'elapsed', '# records', '# triples']\n",
    "df = df.groupby('site')[['md_src', '# records', '# triples']].max().reset_index()\n",
    "for sitename, actual in fix_records.items():\n",
    "    df.loc[df.site==sitename, '# records'] = actual\n",
    "df['triples_per_record'] = df['# triples'] / df['# records']\n",
    "haystack_df = df\n",
    "df"
   ]
  },
  {
   "cell_type": "markdown",
   "metadata": {},
   "source": [
    "## GBXML"
   ]
  },
  {
   "cell_type": "code",
   "execution_count": 10,
   "metadata": {},
   "outputs": [],
   "source": [
    "df = pd.read_csv('gbxml_stats.csv', header=None)\n",
    "df.columns = ['md_src', 'site', 'elapsed', '# records', '# triples']\n",
    "df = df.groupby('site')[['md_src', '# records', '# triples']].max().reset_index()\n",
    "df['triples_per_record'] = df['# triples'] / df['# records']\n",
    "df\n",
    "gbxml_df = df"
   ]
  },
  {
   "cell_type": "markdown",
   "metadata": {},
   "source": [
    "# All Together"
   ]
  },
  {
   "cell_type": "code",
   "execution_count": 11,
   "metadata": {},
   "outputs": [
    {
     "data": {
      "image/png": "[encoded data removed]",
      "text/plain": [
       "<Figure size 720x288 with 1 Axes>"
      ]
     },
     "metadata": {
      "needs_background": "light"
     },
     "output_type": "display_data"
    }
   ],
   "source": [
    "fig_dims = (10,4)\n",
    "fig, ax = plt.subplots(figsize=fig_dims)\n",
    "udf = pd.concat([bsync_df, haystack_df, gbxml_df])\n",
    "udf.loc[udf.md_src=='bsync', 'md_src'] = 'BuildingSync'\n",
    "udf.loc[udf.md_src=='haystack', 'md_src'] = 'Project Haystack'\n",
    "udf.loc[udf.md_src=='gbxml', 'md_src'] = 'gbXML'\n",
    "udf['Brick triples per record'] = udf['triples_per_record']\n",
    "sns.boxplot(x='Brick triples per record', y='md_src', data=udf)\n",
    "ax.set_ylabel('Metadata Source')\n",
    "plt.savefig('triples_per_recdist.png')"
   ]
  },
  {
   "cell_type": "code",
   "execution_count": 12,
   "metadata": {},
   "outputs": [
    {
     "data": {
      "image/png": "[encoded data removed]",
      "text/plain": [
       "<Figure size 720x288 with 1 Axes>"
      ]
     },
     "metadata": {
      "needs_background": "light"
     },
     "output_type": "display_data"
    }
   ],
   "source": [
    "fig_dims = (10,4)\n",
    "fig, ax = plt.subplots(figsize=fig_dims)\n",
    "p = sns.boxplot(x='# triples', y='md_src', data=udf)\n",
    "p.set(xscale='log')\n",
    "ax.set_ylabel('Metadata Source')\n",
    "plt.savefig('triples_dist.png')"
   ]
  },
  {
   "cell_type": "code",
   "execution_count": null,
   "metadata": {},
   "outputs": [],
   "source": [
    "\n"
   ]
  },
  {
   "cell_type": "code",
   "execution_count": null,
   "metadata": {},
   "outputs": [],
   "source": []
  },
  {
   "cell_type": "code",
   "execution_count": null,
   "metadata": {},
   "outputs": [],
   "source": []
  },
  {
   "cell_type": "code",
   "execution_count": null,
   "metadata": {},
   "outputs": [],
   "source": []
  },
  {
   "cell_type": "code",
   "execution_count": null,
   "metadata": {},
   "outputs": [],
   "source": []
  },
  {
   "cell_type": "code",
   "execution_count": null,
   "metadata": {},
   "outputs": [],
   "source": []
  },
  {
   "cell_type": "code",
   "execution_count": null,
   "metadata": {},
   "outputs": [],
   "source": []
  }
 ],
 "metadata": {
  "kernelspec": {
   "display_name": "Python 3",
   "language": "python",
   "name": "python3"
  },
  "language_info": {
   "codemirror_mode": {
    "name": "ipython",
    "version": 3
   },
   "file_extension": ".py",
   "mimetype": "text/x-python",
   "name": "python",
   "nbconvert_exporter": "python",
   "pygments_lexer": "ipython3",
   "version": "3.8.2"
  }
 },
 "nbformat": 4,
 "nbformat_minor": 4
}
